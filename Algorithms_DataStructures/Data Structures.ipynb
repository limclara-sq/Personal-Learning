{
 "cells": [
  {
   "cell_type": "markdown",
   "metadata": {},
   "source": [
    "## 1) Introduction"
   ]
  },
  {
   "cell_type": "markdown",
   "metadata": {},
   "source": [
    "### Abstract Data Types"
   ]
  },
  {
   "cell_type": "markdown",
   "metadata": {},
   "source": [
    "- The model (logical description) for a certain data structure; a supertype in programming\n",
    "- Define the basic behaviour; but it does not specify the concrete implementation or programming language"
   ]
  },
  {
   "cell_type": "markdown",
   "metadata": {},
   "source": [
    "### Data Structures"
   ]
  },
  {
   "cell_type": "markdown",
   "metadata": {},
   "source": [
    "- The concrete implementation; the actual representation of the data \n",
    "- The aim is to be able to store and retrieve data in an efficient manner\n",
    "- We want to be able to find items in O(1) time complexity\n",
    "    - a space complexity of O(1) means that the space required by the algorithm to process data is constant; it does not grow with the size of the data on which the algorithm is operating \n",
    "- Example: arrays, linked list, trees\n"
   ]
  },
  {
   "cell_type": "markdown",
   "metadata": {},
   "source": [
    "| Abstract Data Types | Data Structures |\n",
    "| --- | --- |\n",
    "| Stack | Array, linked list | \n",
    "| Queue | Array, linked list | \n",
    "| Priority queue | Heap | \n",
    "| Dictionary/Hashed Map | Array | "
   ]
  },
  {
   "cell_type": "markdown",
   "metadata": {},
   "source": [
    "What's the link? Abstract data types are the specifications, and every abstractdata type has an underlying data structure that's going to be implement the behaviour that has been specified in the ADT."
   ]
  },
  {
   "cell_type": "markdown",
   "metadata": {},
   "source": [
    "## 2) Data Structures"
   ]
  },
  {
   "cell_type": "markdown",
   "metadata": {},
   "source": [
    "### 2.1 Arrays "
   ]
  },
  {
   "cell_type": "markdown",
   "metadata": {},
   "source": [
    "- A collection of elements/values each identified by an array index or key\n",
    "- All items stored must be of the same type (Python, not true) \n",
    "- For Python/Java/C++, indices start at zero\n",
    "- Access elements by their index \n",
    "- Dynamic array: when the size of the array is changing dynamically \n",
    "\n",
    "**Multidimensional arrays (i.e. matrices)**\n",
    "- For 2D arrays, specify as such: [][]\n",
    "- First parameter is row index; second parameter is column index \n",
    "\n",
    "Applications: lookup tables/hashtables, heaps "
   ]
  },
  {
   "cell_type": "markdown",
   "metadata": {},
   "source": [
    "**Advantages of Arrays**\n",
    "- Can use random access because of the keys; will return value with the given key in constant time complexity O(1)\n",
    "    - Compared to linked lists: do not support random access; first you have to search for the given value\n",
    "- Easy to implement and use; fast data structure\n",
    "- Best used when: you want to add items iteratively and retrieve items with given indices"
   ]
  },
  {
   "cell_type": "markdown",
   "metadata": {},
   "source": [
    "**Disadvantages of Arrays**\n",
    "- Need to know size of array at compile-time: not the most dynamic data structure; as such it is not possible to increase the size of the array once it is declared\n",
    "- Reconstructing the array (to increase its size) is a O(N) operation \n",
    "- (Not for Python) not able to store items with different types"
   ]
  },
  {
   "cell_type": "markdown",
   "metadata": {},
   "source": [
    "**Operations of Arrays**\n",
    "- *ADD*: can keep adding to the array as long as it is not full; when you add new values to the list, you just have to insert it with the next index; this is a fast O(1) operation\n",
    "- *INSERT*: insert a given value with a given index\n",
    "    - if the index position already has an element, it may become problematic because you will need to shift lots of values in order to insert the new one -- this is ~O(N) time complexity / linear time complexity\n",
    "    - Example: if you have 10 000 items in the array, and you want to insert a value at the beginning of the list, then you have to shift 10 000 items --> hence linear time complexity (note that linked lists can solve this in constant time complexity) --> for this application, arrays may not be that great\n",
    "- *REMOVE*: to remove the last item, it occurs in O(1) time complexity; however, to remove an item in the middle of an array, it occurs in O(N) time complexity if you have to shift items\n",
    "\n",
    "Summary: if inserting or removing items at the end of the array, it's not going to shift any other elements, so it will occur in constant time complexity. Otherwise (i.e. inserting or removing in the middle of the array), it will involve shifting elements / reconstructing the array --> this will occur in linear time complexity"
   ]
  },
  {
   "cell_type": "markdown",
   "metadata": {},
   "source": [
    "**Arrays in Python**\n",
    "\n",
    "- Index start with zero"
   ]
  },
  {
   "cell_type": "code",
   "execution_count": 11,
   "metadata": {},
   "outputs": [
    {
     "name": "stdout",
     "output_type": "stream",
     "text": [
      "30\n"
     ]
    }
   ],
   "source": [
    "numbers=[10,20,30,40,50]\n",
    "print(numbers[2])"
   ]
  },
  {
   "cell_type": "code",
   "execution_count": 12,
   "metadata": {},
   "outputs": [
    {
     "name": "stdout",
     "output_type": "stream",
     "text": [
      "300\n"
     ]
    }
   ],
   "source": [
    "numbers[2]=300 # replacing \n",
    "print(numbers[2])"
   ]
  },
  {
   "cell_type": "code",
   "execution_count": 13,
   "metadata": {},
   "outputs": [
    {
     "name": "stdout",
     "output_type": "stream",
     "text": [
      "10\n",
      "20\n",
      "300\n",
      "40\n",
      "50\n"
     ]
    }
   ],
   "source": [
    "for i in numbers:\n",
    "    print(i)"
   ]
  },
  {
   "cell_type": "markdown",
   "metadata": {},
   "source": [
    "Another equivalent for loop is the following"
   ]
  },
  {
   "cell_type": "code",
   "execution_count": 29,
   "metadata": {},
   "outputs": [
    {
     "name": "stdout",
     "output_type": "stream",
     "text": [
      "0 10\n",
      "1 20\n",
      "2 300\n",
      "3 40\n",
      "4 50\n"
     ]
    }
   ],
   "source": [
    "for i in range(len(numbers)): # i is the index\n",
    "    print(i,numbers[i]) # numbers[i] returns the value corresponding to the index"
   ]
  },
  {
   "cell_type": "code",
   "execution_count": 32,
   "metadata": {},
   "outputs": [
    {
     "name": "stdout",
     "output_type": "stream",
     "text": [
      "[10, 20, 300, 40]\n"
     ]
    }
   ],
   "source": [
    "# if you don't want to print the last item\n",
    "print(numbers[:-1]) "
   ]
  },
  {
   "cell_type": "markdown",
   "metadata": {},
   "source": [
    "- Arrays in Python are general; so you can insert, for example, strings in a list with integers"
   ]
  },
  {
   "cell_type": "markdown",
   "metadata": {},
   "source": [
    "Linear Search - iterating and search through a one-dimensional array, then access item with the help of the indices\n",
    "\n",
    "*Searching in an array is not very fast.* If you are looking for an item and you don't know the index of the given item, then you have to iterate through and consider all the elements in that array --> the time complexity will be ~O(N)\n",
    "\n",
    "Linear time complexity if you KNOW the index of the item \n",
    "\n",
    "\n"
   ]
  },
  {
   "cell_type": "markdown",
   "metadata": {},
   "source": [
    "### 2.2 Linked Lists"
   ]
  },
  {
   "cell_type": "markdown",
   "metadata": {},
   "source": [
    "Definition: Linked lists are composed of nodes and references / pointers pointing from one node to the other. The last reference is pointing to a NULL."
   ]
  },
  {
   "cell_type": "markdown",
   "metadata": {},
   "source": [
    "<img src=\"images/linkedlists_node.png\">"
   ]
  },
  {
   "cell_type": "markdown",
   "metadata": {},
   "source": [
    "A single node contains:\n",
    "- (1) Data, which can be integer/string/etc\n",
    "- (2) Reference pointing to the next node in the linked list (if it is the last node, then it points to NULL)\n",
    "\n",
    "Simple linked lists by themselves do not allow random access to the data. Many basic operations such as (1) obtaining the last node of the list (2) finding a node that contains a given data (3) locating the place where a new node should be inserted - all require sequential scanning of most/all of the list elements"
   ]
  },
  {
   "cell_type": "raw",
   "metadata": {},
   "source": [
    "class Node { \n",
    "    data\n",
    "    Node nextNode\n",
    "    ...\n",
    "}"
   ]
  },
  {
   "cell_type": "markdown",
   "metadata": {},
   "source": [
    "**Advantages of Linked Lists**\n",
    "- Dynamic data structures, so it can allocate the needed memory in run-time (constrast this with arrays which have fixed memory); easier for linked list to grow organically \n",
    "- Very efficient if we want to manipulate the first element --> ~O(1) time complexity to do so \n",
    "- Easy implementation (same as arrays) \n",
    "- Can store items with different sizes; an array assumes every element to be exactly the same"
   ]
  },
  {
   "cell_type": "markdown",
   "metadata": {},
   "source": [
    "**Disadvantages of Linked Lists**\n",
    "- References take up lots of memory\n",
    "- Nodes in a linked list must be read in order from the beginning as linked lists have sequential access // recall that array items can be accessed in O(1) time\n",
    "- Reverse traversing is hard (singly linked lists are difficult to navigate backwards, and the solution is a doubly linked list, where we store reference to the next node AND previous node --> although it is easier to read, we waste memory in doing so)"
   ]
  },
  {
   "cell_type": "markdown",
   "metadata": {},
   "source": [
    "**Linked Lists Operations**\n",
    "- *INSERT*: inserting items at the beginning of the linked list is very simple and takes ~O(1) time complexity. However, inserting items at the end of the lists is not that straightforward because we need to traverse the whole linked list to find the last node \n",
    "    - How do we find the last node? Recall that the last node points to the null\n",
    "    - We also need to update the references when we get there \n",
    "    - Updating the references takes ~ O(1) time complexity\n",
    "    - Overall time complexity will still be ~O(N) time complexity because of the iteration through the entire list\n",
    "    \n",
    ">How does this work?\n",
    "- Start at the root of the node: the first node\n",
    "- Search through until the next pointer is the null \n",
    "- Update reference: instead of pointing to the null, point to the next item, then the new item points to the null \n",
    "\n",
    "- *REMOVE*: remove item at the beginning of the list doesn't require search so it occurs with ~O(1) time complexity, then update the references accordingly. However, removing an item at a given point of the list requires searching for the item - hence ~O(N) time complexity \n",
    "\n",
    ">How does this work? \n",
    "- Once you find the item through the search, the previous node of that item should point to the next node of that item (this is called updating the references) "
   ]
  },
  {
   "cell_type": "markdown",
   "metadata": {},
   "source": [
    "**Doubly Linked Lists**: These are created because of one main problem of singly linked lists - which is that the references are forward-pointing. As such, you are not able to reverse traverse the linked list. \n",
    "\n",
    "In a doubly-linked list, the node class has two references, one pointing to the next node and one pointing to the previous node. "
   ]
  },
  {
   "cell_type": "markdown",
   "metadata": {},
   "source": [
    "#### 2.2.1 Implementation of LinkedLists / Practice"
   ]
  },
  {
   "cell_type": "code",
   "execution_count": null,
   "metadata": {},
   "outputs": [],
   "source": []
  },
  {
   "cell_type": "markdown",
   "metadata": {},
   "source": [
    "### 2.3 Comparison of Arrays and Linked Lists"
   ]
  },
  {
   "cell_type": "markdown",
   "metadata": {},
   "source": [
    "| - | Arrays | Linked Lists | Summary/Other Notes | \n",
    "| ---| --- | --- | -- |\n",
    "| **Search** | Faster because of random access, index-based system, O(1) time complexity | No random access, (N) time complexity, always start at root node and requires traversal through all items when searching for an element | ArrayList is generally better if you know the index of the item; if you don't know the index, you need to iterate as well |\n",
    "| **Deletion** | If we remove first element, it takes O(N) time; if we remove last element, it takes O(N) time | If we remove items from the beginning, ~O(1) time complexity | LinkedList is generally better, because on average, we have to reconstruct the array when removing an item in an ArrayList. LinkedList operates with pointers, removal only requires change in pointer location which is a fast operation|\n",
    "| **Memory Management** | Does not take up extra memory | Need extra memory due to the references/pointers | Arrays are more memory-friendly |"
   ]
  },
  {
   "cell_type": "markdown",
   "metadata": {},
   "source": [
    "| Time Complexity | Arrays | Linked Lists |  \n",
    "| ---| --- | --- |\n",
    "| **Search** | O(1) | O(N) |\n",
    "| **Insert at the start** | O(N) | O(1) | \n",
    "| **Insert at the end** | O(1)| O(N) |"
   ]
  },
  {
   "cell_type": "code",
   "execution_count": null,
   "metadata": {},
   "outputs": [],
   "source": []
  }
 ],
 "metadata": {
  "kernelspec": {
   "display_name": "Python 3",
   "language": "python",
   "name": "python3"
  },
  "language_info": {
   "codemirror_mode": {
    "name": "ipython",
    "version": 3
   },
   "file_extension": ".py",
   "mimetype": "text/x-python",
   "name": "python",
   "nbconvert_exporter": "python",
   "pygments_lexer": "ipython3",
   "version": "3.6.8"
  }
 },
 "nbformat": 4,
 "nbformat_minor": 2
}
